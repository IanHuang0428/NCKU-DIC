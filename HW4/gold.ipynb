{
 "cells": [
  {
   "cell_type": "markdown",
   "metadata": {},
   "source": [
    "### Data"
   ]
  },
  {
   "cell_type": "code",
   "execution_count": 42,
   "metadata": {},
   "outputs": [],
   "source": [
    "A = [2,5,7,9,100,50,250,21,54,6,79,80]\n",
    "n = len(A)"
   ]
  },
  {
   "cell_type": "code",
   "execution_count": 43,
   "metadata": {},
   "outputs": [],
   "source": [
    "def MAX_HEAPIFY(A, i, n):\n",
    "     l = 2 * i\n",
    "     r = 2 * i + 1\n",
    "     if l <= n and A[l-1] > A[i-1]:\n",
    "         largest = l\n",
    "     else:\n",
    "        largest = i\n",
    "\n",
    "     if r <= n and A[r-1] > A[largest-1]:\n",
    "         largest = r\n",
    "         \n",
    "     if largest != i:\n",
    "         temp = A[i-1]\n",
    "         A[i-1] = A[largest-1]\n",
    "         A[largest-1] = temp\n",
    "         MAX_HEAPIFY(A, largest, n)"
   ]
  },
  {
   "cell_type": "markdown",
   "metadata": {},
   "source": [
    "### BUILD-QUEUE"
   ]
  },
  {
   "cell_type": "code",
   "execution_count": 44,
   "metadata": {},
   "outputs": [
    {
     "name": "stdout",
     "output_type": "stream",
     "text": [
      "[2, 5, 7, 9, 100, 80, 250, 21, 54, 6, 79, 50]\n",
      "[2, 5, 7, 9, 100, 80, 250, 21, 54, 6, 79, 50]\n",
      "[2, 5, 7, 54, 100, 80, 250, 21, 9, 6, 79, 50]\n",
      "[2, 5, 250, 54, 100, 80, 7, 21, 9, 6, 79, 50]\n",
      "[2, 100, 250, 54, 79, 80, 7, 21, 9, 6, 5, 50]\n",
      "[250, 100, 80, 54, 79, 50, 7, 21, 9, 6, 5, 2]\n"
     ]
    }
   ],
   "source": [
    "for k in [6,5,4,3,2,1]:\n",
    "    MAX_HEAPIFY(A, k, n)\n",
    "    print(A)"
   ]
  },
  {
   "cell_type": "markdown",
   "metadata": {},
   "source": [
    "### EXTRACT-MAX"
   ]
  },
  {
   "cell_type": "code",
   "execution_count": null,
   "metadata": {},
   "outputs": [],
   "source": [
    "def EXTRACT_MAX(A, n):\n",
    "     if n < 0:\n",
    "         print(\"heap underflow\")\n",
    "\n",
    "     max = A[0]\n",
    "     A[0] = A[n-1]\n",
    "     n = n - 1\n",
    "     MAX_HEAPIFY(A, 1, n)\n",
    "\n",
    "     return max"
   ]
  },
  {
   "cell_type": "code",
   "execution_count": null,
   "metadata": {},
   "outputs": [],
   "source": [
    "EXTRACT_MAX(A, n)"
   ]
  },
  {
   "cell_type": "markdown",
   "metadata": {},
   "source": [
    "### INCREASE-VALUE"
   ]
  },
  {
   "cell_type": "code",
   "execution_count": 45,
   "metadata": {},
   "outputs": [],
   "source": [
    "def INCREASE_VALUE(A, index, value):\n",
    "    \n",
    "    index = index-1\n",
    "    \n",
    "    if value < A[index]:\n",
    "        print(\"new value is smaller than current value\")\n",
    "        \n",
    "        \n",
    "    A[index] = value\n",
    "    \n",
    "    while index > 1 and A[index//2] < A[index]:\n",
    "        \n",
    "        temp = A[index]\n",
    "        A[index] = A[index//2]\n",
    "        A[index//2] = temp\n",
    "        \n",
    "        index = index//2"
   ]
  },
  {
   "cell_type": "markdown",
   "metadata": {},
   "source": [
    "### INSERT_DATA"
   ]
  },
  {
   "cell_type": "code",
   "execution_count": 46,
   "metadata": {},
   "outputs": [],
   "source": [
    "def INSERT_DATA(A, value, n):\n",
    "     n = n + 1\n",
    "     A.append(value)\n",
    "     print(A)\n",
    "     INCREASE_VALUE(A, n, value)\n"
   ]
  },
  {
   "cell_type": "code",
   "execution_count": 47,
   "metadata": {},
   "outputs": [
    {
     "name": "stdout",
     "output_type": "stream",
     "text": [
      "[250, 100, 80, 54, 79, 50, 7, 21, 9, 6, 5, 2, 300]\n",
      "[250, 300, 100, 54, 79, 80, 7, 21, 9, 6, 5, 50, 300]\n"
     ]
    }
   ],
   "source": [
    "INSERT_DATA(A, 300, len(A)-1)\n",
    "\n",
    "print(A)"
   ]
  }
 ],
 "metadata": {
  "kernelspec": {
   "display_name": "Python 3",
   "language": "python",
   "name": "python3"
  },
  "language_info": {
   "codemirror_mode": {
    "name": "ipython",
    "version": 3
   },
   "file_extension": ".py",
   "mimetype": "text/x-python",
   "name": "python",
   "nbconvert_exporter": "python",
   "pygments_lexer": "ipython3",
   "version": "3.10.10"
  }
 },
 "nbformat": 4,
 "nbformat_minor": 2
}
